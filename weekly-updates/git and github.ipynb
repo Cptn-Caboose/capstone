{
 "metadata": {
  "celltoolbar": "Slideshow",
  "name": "",
  "signature": "sha256:1ae53b12d01fcc9defe21bd2444dc454d7cb5cf7f73d7d65fb3182bb83765f60"
 },
 "nbformat": 3,
 "nbformat_minor": 0,
 "worksheets": [
  {
   "cells": [
    {
     "cell_type": "markdown",
     "metadata": {
      "slideshow": {
       "slide_type": "slide"
      }
     },
     "source": [
      "<p class=\"title\">Git and github</p>\n",
      "\n",
      "<p class=\"subtitle\">for your capstone project</p>\n",
      "\n",
      "<center>\n",
      "\n",
      "<p class=\"gap05\"<p>\n",
      "<p class=\"gap05\"<p>\n",
      "\n",
      "<p class=\"gap2\"<p>\n",
      "</center>"
     ]
    },
    {
     "cell_type": "code",
     "collapsed": false,
     "input": [
      "%run talktools"
     ],
     "language": "python",
     "metadata": {
      "slideshow": {
       "slide_type": "notes"
      }
     },
     "outputs": [
      {
       "html": [
        "<style>\n",
        "\n",
        ".rendered_html\n",
        "{\n",
        "  color: #2C5494;\n",
        "  font-family: Ubuntu;\n",
        "  font-size: 140%;\n",
        "  line-height: 1.1;\n",
        "  margin: 0.5em 0;\n",
        "  }\n",
        "\n",
        ".title\n",
        "{\n",
        "  color: #498AF3;\n",
        "  font-size: 250%;\n",
        "  font-weight:bold;\n",
        "  line-height: 1.2; \n",
        "  margin: 10px 50px 10px;\n",
        "  }\n",
        "\n",
        ".subtitle\n",
        "{\n",
        "  color: #386BBC;\n",
        "  font-size: 180%;\n",
        "  font-weight:bold;\n",
        "  line-height: 1.2; \n",
        "  margin: 20px 50px 20px;\n",
        "  }\n",
        "\n",
        ".slide-header, p.slide-header\n",
        "{\n",
        "  color: #498AF3;\n",
        "  font-size: 200%;\n",
        "  font-weight:bold;\n",
        "  margin: 0px 20px 10px;\n",
        "  page-break-before: always;\n",
        "  text-align: center;\n",
        "  }\n",
        "\n",
        ".rendered_html h1\n",
        "{\n",
        "  color: #498AF3;\n",
        "  line-height: 1.2; \n",
        "  margin: 0.15em 0em 0.5em;\n",
        "  page-break-before: always;\n",
        "  text-align: center;\n",
        "  }\n",
        "\n",
        "\n",
        ".rendered_html h2\n",
        "{ \n",
        "  color: #386BBC;\n",
        "  line-height: 1.2;\n",
        "  margin: 1.1em 0em 0.5em;\n",
        "  }\n",
        "\n",
        ".rendered_html h3\n",
        "{ \n",
        "  font-size: 100%;\n",
        "  line-height: 1.2;\n",
        "  margin: 1.1em 0em 0.5em;\n",
        "  }\n",
        "\n",
        ".rendered_html li\n",
        "{\n",
        "  line-height: 1.8;\n",
        "  }\n",
        "\n",
        ".input_prompt, .CodeMirror-lines, .output_area\n",
        "{\n",
        "  font-family: Consolas;\n",
        "  font-size: 120%;\n",
        "  }\n",
        "\n",
        ".gap-above\n",
        "{\n",
        "  padding-top: 200px;\n",
        "  }\n",
        "\n",
        ".gap01\n",
        "{\n",
        "  padding-top: 10px;\n",
        "  }\n",
        "\n",
        ".gap05\n",
        "{\n",
        "  padding-top: 50px;\n",
        "  }\n",
        "\n",
        ".gap1\n",
        "{\n",
        "  padding-top: 100px;\n",
        "  }\n",
        "\n",
        ".gap2\n",
        "{\n",
        "  padding-top: 200px;\n",
        "  }\n",
        "\n",
        ".gap3\n",
        "{\n",
        "  padding-top: 300px;\n",
        "  }\n",
        "\n",
        ".emph\n",
        "{\n",
        "  color: #386BBC;\n",
        "  }\n",
        "\n",
        ".warn\n",
        "{\n",
        "  color: red;\n",
        "  }\n",
        "\n",
        ".center\n",
        "{\n",
        "  text-align: center;\n",
        "  }\n",
        "\n",
        ".nb_link\n",
        "{\n",
        "    padding-bottom: 0.5em;\n",
        "}\n",
        "\n",
        "</style>\n"
       ],
       "metadata": {},
       "output_type": "display_data",
       "text": [
        "<IPython.core.display.HTML at 0x1044d2390>"
       ]
      }
     ],
     "prompt_number": 1
    },
    {
     "cell_type": "markdown",
     "metadata": {
      "slideshow": {
       "slide_type": "slide"
      }
     },
     "source": [
      "<div class=\"slide-header\">git</div>\n",
      "\n",
      "---\n",
      "\n",
      "<center>\n",
      "*a distributed version control system (DCVS)*\n",
      "<p></p>\n",
      "\n",
      "[git-scm.com](http://git-scm.com)\n",
      "\n",
      "\n",
      "</center>\n",
      "\n",
      "<p class=\"gap05\"></p>\n",
      "\n",
      "\n",
      "<div class=\"slide-header\">github</div>\n",
      "\n",
      "---\n",
      "\n",
      "<center>\n",
      "* an online community for collaborating on and sharing git repositories *\n",
      "<p></p>\n",
      "[github.com](http://github.com)\n",
      "</center>"
     ]
    },
    {
     "cell_type": "markdown",
     "metadata": {
      "slideshow": {
       "slide_type": "slide"
      }
     },
     "source": [
      "<div class=\"slide-header\">What is version control?</div>\n",
      "\n",
      "---\n",
      "\n",
      "<p class=\"gap05\"></p>\n",
      "<ul align=center>\n",
      "<li><em>Version control</em> is a system for keeping track of changes in documents.\n",
      "<li>It is often applied to code, but can be used to keep track of anything.\n",
      "<li>It keeps track of what you did and when you did it.\n",
      "<li>Think of it as the computer equivalent of a lab notebook.\n",
      "<li>Rule of thumb: if you spent more than 10 minutes on it, and created or modified it on a computer, it ought to be in version control.\n",
      "</ul>"
     ]
    },
    {
     "cell_type": "markdown",
     "metadata": {
      "slideshow": {
       "slide_type": "slide"
      }
     },
     "source": [
      "<div class=\"slide-header\">Version control concepts</div>\n",
      "\n",
      "---\n",
      "\n",
      "<dl>\n",
      "<dt>Working directory</dt>\n",
      "<dd>The directory containing the current version of all of your files.\n",
      "\n",
      "<dt>Repository (or repo for short)</dt>\n",
      "<dd>The database containing the history of all of your files. You don't ever edit this directly.\n",
      "\n",
      "<dt>Commit</dt>\n",
      "<dd>Add changes to your repository.\n",
      "\n",
      "<dt>Merge</dt>\n",
      "<dd>Bring changes from the repository into the working directory, resolving conflicts if necessary.\n",
      "\n",
      "<dt>Branch</dt>\n",
      "<dd>A name given to a collection of work/edits.\n",
      "\n",
      "<dt>Tag</dt>\n",
      "<dd>A name given to a particular repository state.\n",
      "</dl>\n",
      "\n",
      "It's rather unlikely that you will need to use multiple branches or tags, but I've included them for the sake of completeness."
     ]
    },
    {
     "cell_type": "markdown",
     "metadata": {
      "slideshow": {
       "slide_type": "slide"
      }
     },
     "source": [
      "<div class=\"slide-header\"> <em>Distributed</em> version control </div>\n",
      "\n",
      "---\n",
      "\n",
      "<ul>\n",
      "<li>In addition to your local repository, there are one or more <em>remote</em> repositories.\n",
      "<li>One possible example: both you and your advisor have repositories for your project.\n",
      "<li>Another: you're doing some work on your laptop, and some on a cluster, and want to keep the two synchronized.\n",
      "<li>All repositories have equal authority.\n",
      "</ul>\n",
      "\n",
      "---\n",
      "<h4 align=center> Some additional concepts </h4>\n",
      "\n",
      "<dl>\n",
      "<dt>Push</dt>\n",
      "<dd>Send one or more commits to a remote repository.\n",
      "\n",
      "<dt>Pull</dt>\n",
      "<dd>Get commits from a remote repository and merge them into your working directory.\n",
      "\n",
      "<dt>Clone</dt>\n",
      "<dd>Make a local copy of a remote repository.\n",
      "\n",
      "<dt>Fork</dt>\n",
      "<dd>Make a remote copy of a remote repository.\n",
      "</dl>"
     ]
    },
    {
     "cell_type": "markdown",
     "metadata": {
      "slideshow": {
       "slide_type": "slide"
      }
     },
     "source": [
      "<div class=\"slide-header\">Learn by doing (Homework) </div>\n",
      "\n",
      "---"
     ]
    },
    {
     "cell_type": "markdown",
     "metadata": {},
     "source": [
      "<h4>For students:</h4>\n",
      "<ol>\n",
      "<li>Install git on the computer you're using for most of your work (if necessary).\n",
      "<li>Sign up for a <a href=\"http://www.github.com\">github</a> account.\n",
      "<li>Fork the capstone template respository (<a href=\"http://www.github.com/cqmckay/capstone\">http://www.github.com/cqmckay/capstone</a>)\n",
      "<li>Clone <b>your fork</b> to your own computer.\n",
      "<li>Add whatever work you've already done (proposal, outline, references, this week's update, etc.) and commit it.\n",
      "<li>Push your changes back up to github.\n",
      "<li>When the preceeding steps have been taken, email your advisor with a link to your github repo.\n",
      "</ol>"
     ]
    },
    {
     "cell_type": "markdown",
     "metadata": {
      "slideshow": {
       "slide_type": "slide"
      }
     },
     "source": [
      "<div class=\"slide-header\">Learn by doing (Homework) </div>\n",
      "\n",
      "---"
     ]
    },
    {
     "cell_type": "markdown",
     "metadata": {
      "slideshow": {
       "slide_type": "slide"
      }
     },
     "source": [
      "<h4>For advisors:</h4>\n",
      "<ol><li>Install git on the computer you're using for most of your work (if necessary).\n",
      "<li>Sign up for a <a href=\"http://www.github.com\">github</a> account. (This is not, strictly speaking, necessary, but will make the revision process somewhat easier).\n",
      "<li>When you get an email from your student, clone their github repository.\n",
      "</ol>"
     ]
    },
    {
     "cell_type": "code",
     "collapsed": false,
     "input": [],
     "language": "python",
     "metadata": {},
     "outputs": []
    },
    {
     "cell_type": "markdown",
     "metadata": {
      "slideshow": {
       "slide_type": "slide"
      }
     },
     "source": [
      "<div class=\"slide-header\">Typical workflow</div>\n",
      "\n",
      "---\n",
      "\n",
      "<ol>\n",
      "<li> (optional) Create a new branch (e.g., \"initial explorations\", \"Week 3\", \"OSAPS presentation\", etc.)\n",
      "<li> Do some work (create and modify files)\n",
      "<li> Commit (with meaningful commit messages) (more or less every time you make a significant change)\n",
      "<li> Repeat as needed\n",
      "<li> Push changes to github (daily -- weekly)\n",
      "<li> (if you created a new branch) merge changes back into master branch, if desired\n",
      "</ol>"
     ]
    },
    {
     "cell_type": "code",
     "collapsed": false,
     "input": [],
     "language": "python",
     "metadata": {},
     "outputs": []
    }
   ],
   "metadata": {}
  }
 ]
}